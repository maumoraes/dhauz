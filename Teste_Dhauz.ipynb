{
  "nbformat": 4,
  "nbformat_minor": 0,
  "metadata": {
    "colab": {
      "provenance": []
    },
    "kernelspec": {
      "name": "python3",
      "display_name": "Python 3"
    },
    "language_info": {
      "name": "python"
    }
  },
  "cells": [
    {
      "cell_type": "markdown",
      "source": [
        "# Teste técnico Dhauz\n",
        "\n",
        "Vamos iniciar autenticando as credenciais"
      ],
      "metadata": {
        "id": "XEB5_ITG0Zqz"
      }
    },
    {
      "cell_type": "code",
      "source": [
        "!pip install mysql-connector-python\n"
      ],
      "metadata": {
        "colab": {
          "base_uri": "https://localhost:8080/"
        },
        "id": "lwKgaqAv5XdT",
        "outputId": "7c2f88d7-ccd2-4a50-bcfd-bb1869838a13"
      },
      "execution_count": 1,
      "outputs": [
        {
          "output_type": "stream",
          "name": "stdout",
          "text": [
            "Looking in indexes: https://pypi.org/simple, https://us-python.pkg.dev/colab-wheels/public/simple/\n",
            "Requirement already satisfied: mysql-connector-python in /usr/local/lib/python3.7/dist-packages (8.0.31)\n",
            "Requirement already satisfied: protobuf<=3.20.1,>=3.11.0 in /usr/local/lib/python3.7/dist-packages (from mysql-connector-python) (3.17.3)\n",
            "Requirement already satisfied: six>=1.9 in /usr/local/lib/python3.7/dist-packages (from protobuf<=3.20.1,>=3.11.0->mysql-connector-python) (1.15.0)\n"
          ]
        }
      ]
    },
    {
      "cell_type": "code",
      "source": [
        "!pip install boto3"
      ],
      "metadata": {
        "colab": {
          "base_uri": "https://localhost:8080/"
        },
        "id": "w9r0a1s689Hd",
        "outputId": "a711cecf-420e-4971-d118-c81446d147fc"
      },
      "execution_count": 2,
      "outputs": [
        {
          "output_type": "stream",
          "name": "stdout",
          "text": [
            "Looking in indexes: https://pypi.org/simple, https://us-python.pkg.dev/colab-wheels/public/simple/\n",
            "Requirement already satisfied: boto3 in /usr/local/lib/python3.7/dist-packages (1.24.94)\n",
            "Requirement already satisfied: jmespath<2.0.0,>=0.7.1 in /usr/local/lib/python3.7/dist-packages (from boto3) (1.0.1)\n",
            "Requirement already satisfied: s3transfer<0.7.0,>=0.6.0 in /usr/local/lib/python3.7/dist-packages (from boto3) (0.6.0)\n",
            "Requirement already satisfied: botocore<1.28.0,>=1.27.94 in /usr/local/lib/python3.7/dist-packages (from boto3) (1.27.94)\n",
            "Requirement already satisfied: urllib3<1.27,>=1.25.4 in /usr/local/lib/python3.7/dist-packages (from botocore<1.28.0,>=1.27.94->boto3) (1.26.12)\n",
            "Requirement already satisfied: python-dateutil<3.0.0,>=2.1 in /usr/local/lib/python3.7/dist-packages (from botocore<1.28.0,>=1.27.94->boto3) (2.8.2)\n",
            "Requirement already satisfied: six>=1.5 in /usr/local/lib/python3.7/dist-packages (from python-dateutil<3.0.0,>=2.1->botocore<1.28.0,>=1.27.94->boto3) (1.15.0)\n"
          ]
        }
      ]
    },
    {
      "cell_type": "code",
      "source": [
        "import mysql.connector\n",
        "import sys\n",
        "import boto3\n",
        "import os\n",
        "\n",
        "ENDPOINT=\"dhauz-instance.cutloqirhpd7.us-east-1.rds.amazonaws.com\"\n",
        "PORT=\"3306\"\n",
        "USER=\"candidate_user\"\n",
        "REGION=\"us-east-1\"\n",
        "DBNAME=\"db_hiring_test\"\n",
        "pswrd = \"D3@bGh664%$1VHv*\"\n",
        "os.environ['LIBMYSQL_ENABLE_CLEARTEXT_PLUGIN'] = '1'"
      ],
      "metadata": {
        "id": "P_ygSXCX296N"
      },
      "execution_count": 3,
      "outputs": []
    },
    {
      "cell_type": "code",
      "source": [
        "#gets the credentials from .aws/credentials\n",
        "session = boto3.Session()\n",
        "client = session.client('rds', region_name=REGION)\n"
      ],
      "metadata": {
        "colab": {
          "base_uri": "https://localhost:8080/"
        },
        "id": "MN8So4Z_xdik",
        "outputId": "a941813f-9758-422d-e499-5a734cd33d25"
      },
      "execution_count": 4,
      "outputs": [
        {
          "output_type": "stream",
          "name": "stderr",
          "text": [
            "/usr/local/lib/python3.7/dist-packages/botocore/client.py:631: FutureWarning: The rds client is currently using a deprecated endpoint: rds.amazonaws.com. In the next minor version this will be moved to rds.us-east-1.amazonaws.com. See https://github.com/boto/botocore/issues/2705 for more details.\n",
            "  category=FutureWarning,\n"
          ]
        }
      ]
    },
    {
      "cell_type": "markdown",
      "source": [
        "# Análise inicial do banco de dados\n",
        "\n",
        "Para começar, iremos realizar uma consulta incluindo todos os resultados"
      ],
      "metadata": {
        "id": "6tJu0aW9BYAx"
      }
    },
    {
      "cell_type": "code",
      "source": [
        "try:\n",
        "    conn =  mysql.connector.connect(host=ENDPOINT, user=USER, passwd=pswrd, port=PORT, database=DBNAME, ssl_ca='SSLCERTIFICATE')\n",
        "    cur = conn.cursor()\n",
        "    cur.execute(\"\"\"SELECT *, REPLACE(TotalSent,',','') as Value FROM db_hiring_test.raw_transactions_table LIMIT 10\"\"\")\n",
        "    query_results = cur.fetchall()\n",
        "    field_names = print([i[0] for i in cur.description])\n",
        "    for row in query_results:\n",
        "      print(row)\n",
        "except Exception as e:\n",
        "    print(\"Database connection failed due to {}\".format(e))\n",
        "                "
      ],
      "metadata": {
        "colab": {
          "base_uri": "https://localhost:8080/"
        },
        "id": "Y0u-hrhd4vy7",
        "outputId": "4bc9f055-f0c4-4f7c-df45-23ec02c84f19"
      },
      "execution_count": 144,
      "outputs": [
        {
          "output_type": "stream",
          "name": "stdout",
          "text": [
            "['IdTransaction', 'AddressOrigin', 'AddressDestination', 'TotalSent', 'Status', 'SentDate', 'ImportDate', 'Value']\n",
            "('ID1002', 'A-77', 'A-49', ' 293,659.00 ', 'Confirmed', '2021-01-08 13:34:04', '2021-01-31 23:59:59', ' 293659.00 ')\n",
            "('ID2014', 'A-24', 'A-58', ' 542,285.00 ', 'Confirmed', '2021-01-17 13:34:04', '2021-01-31 23:59:59', ' 542285.00 ')\n",
            "('ID1092', 'A-15', 'A-20', ' 57,493.00 ', 'Confirmed', '2021-01-03 03:07:57', '2021-01-31 23:59:59', ' 57493.00 ')\n",
            "('ID1603', 'A-84', 'A-59', ' 883,745.00 ', 'Confirmed', '2021-01-02 06:36:39', '2021-01-31 23:59:59', ' 883745.00 ')\n",
            "('ID253', 'A-86', 'A-44', ' 194,591.00 ', 'Confirmed', '2021-01-14 20:22:08', '2021-01-31 23:59:59', ' 194591.00 ')\n",
            "('ID322', 'A-62', 'A-18', ' 130,057.00 ', 'Confirmed', '2021-01-01 06:14:33', '2021-01-31 23:59:59', ' 130057.00 ')\n",
            "('ID2330', 'A-24', 'A-71', ' 469,855.00 ', 'Confirmed', '2021-01-09 21:45:26', '2021-01-31 23:59:59', ' 469855.00 ')\n",
            "('ID2732', 'A-3', 'A-50', ' 998,501.00 ', 'Denied', '2021-01-20 16:29:47', '2021-01-31 23:59:59', ' 998501.00 ')\n",
            "('ID1835', 'A-36', 'A-64', ' 885,079.00 ', 'Confirmed', '2021-01-13 06:14:33', '2021-01-31 23:59:59', ' 885079.00 ')\n",
            "('ID2825', 'A-34', 'A-31', ' 405,464.00 ', 'Confirmed', '2021-01-26 11:48:41', '2021-01-31 23:59:59', ' 405464.00 ')\n"
          ]
        }
      ]
    },
    {
      "cell_type": "markdown",
      "source": [
        "# Fase 1:"
      ],
      "metadata": {
        "id": "A8QXJ2QQogL1"
      }
    },
    {
      "cell_type": "markdown",
      "source": [
        "## Questão 1: \n",
        " Começando com as consultas que respondem as questões levantadas\n",
        "\n",
        " Primeiramente pegamos as 5 primeiras carteiras que enviaram mais transações"
      ],
      "metadata": {
        "id": "bPcsQ80kCpA-"
      }
    },
    {
      "cell_type": "code",
      "source": [
        "try:\n",
        "    cur2 = conn.cursor()\n",
        "    cur2.execute(\"\"\"SELECT AddressOrigin, COUNT(AddressOrigin) FROM db_hiring_test.raw_transactions_table GROUP BY AddressOrigin ORDER BY COUNT(AddressOrigin) DESC LIMIT 5\"\"\")\n",
        "    query_results2 = cur.fetchall()\n",
        "    for row in query_results2:\n",
        "      print(row)\n",
        "except Exception as e:\n",
        "    print(\"Database connection failed due to {}\".format(e))"
      ],
      "metadata": {
        "colab": {
          "base_uri": "https://localhost:8080/"
        },
        "id": "ssPoZQ6qrYDd",
        "outputId": "c64d694a-a14f-463c-d4fa-9ed4ba5613db"
      },
      "execution_count": 15,
      "outputs": [
        {
          "output_type": "stream",
          "name": "stdout",
          "text": [
            "Database connection failed due to Unread result found\n"
          ]
        }
      ]
    },
    {
      "cell_type": "markdown",
      "source": [
        "## Questão 2: Dias com maior incidência de transações\n",
        "\n"
      ],
      "metadata": {
        "id": "U505bzlCN_B7"
      }
    },
    {
      "cell_type": "code",
      "source": [
        "try:\n",
        "    cur3 = conn.cursor()\n",
        "    cur3.execute(\"\"\"SELECT DAYOFMONTH(SentDate) as Dia, COUNT(DAYOFMONTH(SentDate)) FROM db_hiring_test.raw_transactions_table GROUP BY Dia ORDER BY COUNT(Dia) DESC LIMIT 5\"\"\")\n",
        "    query_results3 = cur.fetchall()\n",
        "    for row in query_results3:\n",
        "      print(row)\n",
        "except Exception as e:\n",
        "    print(\"Database connection failed due to {}\".format(e))"
      ],
      "metadata": {
        "colab": {
          "base_uri": "https://localhost:8080/"
        },
        "id": "baq4yQWcCoVC",
        "outputId": "bbe8674e-246f-4a8b-dd34-b72f948087f0"
      },
      "execution_count": 12,
      "outputs": [
        {
          "output_type": "stream",
          "name": "stdout",
          "text": [
            "(7, 288)\n",
            "(2, 284)\n",
            "(15, 274)\n",
            "(27, 262)\n",
            "(12, 262)\n"
          ]
        }
      ]
    },
    {
      "cell_type": "markdown",
      "source": [
        "## Questão 3: Dia da semana com maior incidência de transferências"
      ],
      "metadata": {
        "id": "EWR4laZ0jwX2"
      }
    },
    {
      "cell_type": "code",
      "source": [
        "try:\n",
        "    cur4 = conn.cursor()\n",
        "    cur4.execute(\"\"\"SELECT DAYNAME(SentDate) as dia_da_semana, COUNT(DAYNAME(SentDate)) FROM db_hiring_test.raw_transactions_table GROUP BY dia_da_semana ORDER BY COUNT(dia_da_semana) DESC LIMIT 7\"\"\")\n",
        "    query_results4 = cur.fetchall()\n",
        "    for row in query_results4:\n",
        "      print(row)\n",
        "except Exception as e:\n",
        "    print(\"Database connection failed due to {}\".format(e))"
      ],
      "metadata": {
        "colab": {
          "base_uri": "https://localhost:8080/"
        },
        "id": "zazIcQFEj4P6",
        "outputId": "94618ad1-92dd-4488-f991-ccb16237e9ce"
      },
      "execution_count": null,
      "outputs": [
        {
          "output_type": "stream",
          "name": "stdout",
          "text": [
            "('Saturday', 978)\n",
            "('Wednesday', 932)\n",
            "('Friday', 930)\n",
            "('Thursday', 911)\n",
            "('Sunday', 874)\n",
            "('Tuesday', 850)\n",
            "('Monday', 701)\n"
          ]
        }
      ]
    },
    {
      "cell_type": "markdown",
      "source": [
        "## Questão 4: Transações suspeitas dentro dos dados\n",
        "\n",
        "A priori iremos olhar para as transações que tiveram suas condições negadas, e desta forma analisar o que elas podem ter em comum"
      ],
      "metadata": {
        "id": "Hy0uNiuMliAW"
      }
    },
    {
      "cell_type": "code",
      "source": [
        "try:\n",
        "    cur5 = conn.cursor()\n",
        "    cur5.execute(\"\"\"SELECT * FROM db_hiring_test.raw_transactions_table WHERE Status = 'Denied' ORDER BY TotalSent DESC LIMIT 10\"\"\")\n",
        "    query_results5 = cur.fetchall()\n",
        "    for row in query_results5:\n",
        "      print(row)\n",
        "except Exception as e:\n",
        "    print(\"Database connection failed due to {}\".format(e))"
      ],
      "metadata": {
        "colab": {
          "base_uri": "https://localhost:8080/"
        },
        "id": "sGF2J3APlxOq",
        "outputId": "0c803c23-bc7c-4276-ab01-38f6a836f84f"
      },
      "execution_count": 148,
      "outputs": [
        {
          "output_type": "stream",
          "name": "stdout",
          "text": [
            "('ID2732', 'A-3', 'A-50', ' 998,501.00 ', 'Denied', '2021-01-20 16:29:47', '2021-01-31 23:59:59')\n",
            "('ID2732', 'A-3', 'A-50', ' 998,501.00 ', 'Denied', '2021-01-20 16:29:47', '2021-02-05 23:59:59')\n",
            "('ID3051', 'A-15', 'A-87', ' 988,621.00 ', 'Denied', '2021-02-01 05:41:31', '2021-02-05 23:59:59')\n",
            "('ID1354', 'A-66', 'A-12', ' 987,415.00 ', 'Denied', '2021-01-05 19:19:47', '2021-02-05 23:59:59')\n",
            "('ID1354', 'A-66', 'A-12', ' 987,415.00 ', 'Denied', '2021-01-05 19:19:47', '2021-01-31 23:59:59')\n",
            "('ID3126', 'A-46', 'A-67', ' 831,296.00 ', 'Denied', '2021-02-04 19:16:00', '2021-02-05 23:59:59')\n",
            "('ID2593', 'A-88', 'A-71', ' 804,143.00 ', 'Denied', '2021-01-09 11:48:41', '2021-02-05 23:59:59')\n",
            "('ID2593', 'A-88', 'A-71', ' 804,143.00 ', 'Denied', '2021-01-09 11:48:41', '2021-01-31 23:59:59')\n",
            "('ID3008', 'A-59', 'A-47', ' 694,983.00 ', 'Denied', '2021-02-04 01:35:23', '2021-02-05 23:59:59')\n",
            "('ID1796', 'A-87', 'A-72', ' 69,019.00 ', 'Denied', '2021-01-02 13:34:04', '2021-02-05 23:59:59')\n"
          ]
        }
      ]
    },
    {
      "cell_type": "markdown",
      "source": [
        "Podemos reparar a incidência de transações duplicadas e também com datas coincidindo na casa dos segundos, sendo esse o motivo para elas terem seu status negado, sendo passível de investigação"
      ],
      "metadata": {
        "id": "dt4nTqZdmVu3"
      }
    },
    {
      "cell_type": "markdown",
      "source": [
        "## Questão 5:\n",
        "\n",
        "Agora para a análise iremos realizar uma função que realiza o cálculo das carteiras"
      ],
      "metadata": {
        "id": "NWjclTLdoEYo"
      }
    },
    {
      "cell_type": "code",
      "source": [
        "try:\n",
        "    lista = []\n",
        "    cur6 = conn.cursor()\n",
        "    cur6.execute(\"\"\"WITH pagamentos as (SELECT AddressOrigin as Address, SUM(REPLACE(TotalSent,',','')) as Value FROM db_hiring_test.raw_transactions_table GROUP BY Address),\n",
        "                    recebimentos as (SELECT AddressDestination as Address, SUM(REPLACE(TotalSent,',','')*-1) as Value FROM db_hiring_test.raw_transactions_table GROUP BY Address)\n",
        "                    INSERT INTO pagamentos (Address, Value) VALUE(SELECT * FROM recebimentos);\n",
        "                    SELECT Address, SUM(Value) FROM pagamentos GROUP BY Address\"\"\")\n",
        "    query_results6 = cur.fetchall()\n",
        "    for row in query_results6:\n",
        "      print(row)\n",
        "except Exception as e:\n",
        "    print(\"Database connection failed due to {}\".format(e))"
      ],
      "metadata": {
        "id": "G78DCBI4oDa1",
        "colab": {
          "base_uri": "https://localhost:8080/"
        },
        "outputId": "63cef0b3-50b9-46e9-8343-9cc6f220110a"
      },
      "execution_count": 188,
      "outputs": [
        {
          "output_type": "stream",
          "name": "stdout",
          "text": [
            "Database connection failed due to 1064 (42000): You have an error in your SQL syntax; check the manual that corresponds to your MySQL server version for the right syntax to use near 'INSERT INTO pagamentos (Address, Value) VALUE(SELECT * FROM recebimentos);\n",
            "     ' at line 3\n"
          ]
        }
      ]
    },
    {
      "cell_type": "markdown",
      "source": [
        "# Fase 2:"
      ],
      "metadata": {
        "id": "mo7bLgy8oYHU"
      }
    },
    {
      "cell_type": "markdown",
      "source": [
        "Agora iremos reunir as informações das duas tabelas para podermos associar o custo de cada transação com a sua respectiva taxa"
      ],
      "metadata": {
        "id": "JGLcb9gLomJJ"
      }
    },
    {
      "cell_type": "code",
      "source": [
        "try:\n",
        "    cur7 = conn.cursor()\n",
        "    cur7.execute(\"\"\"SELECT * FROM db_hiring_test.raw_transactions_fee\"\"\")\n",
        "    query_results7 = cur.fetchall()\n",
        "    field_names = print([i[0] for i in cur7.description])\n",
        "    for row in query_results7:\n",
        "      print(row)\n",
        "except Exception as e:\n",
        "    print(\"Database connection failed due to {}\".format(e))"
      ],
      "metadata": {
        "colab": {
          "base_uri": "https://localhost:8080/"
        },
        "id": "7LwB4tzJpcH5",
        "outputId": "67263c75-1cc6-4d56-f8bf-892a751fdedf"
      },
      "execution_count": 44,
      "outputs": [
        {
          "output_type": "stream",
          "name": "stdout",
          "text": [
            "['range-start', 'range-end', 'fee-percentage']\n",
            "(Decimal('0.00'), Decimal('160000.00'), Decimal('10.00'))\n",
            "(Decimal('160000.01'), Decimal('340000.00'), Decimal('8.00'))\n",
            "(Decimal('340000.01'), Decimal('500000.00'), Decimal('6.00'))\n",
            "(Decimal('500000.01'), Decimal('670000.00'), Decimal('5.00'))\n",
            "(Decimal('670000.01'), Decimal('833000.00'), Decimal('4.00'))\n",
            "(Decimal('833000.01'), Decimal('99000000.00'), Decimal('2.00'))\n"
          ]
        }
      ]
    },
    {
      "cell_type": "markdown",
      "source": [
        "Criando a tabela auxiliar para podermos realizar as análises"
      ],
      "metadata": {
        "id": "eAkdQUfQwLy2"
      }
    },
    {
      "cell_type": "code",
      "source": [
        " try: \n",
        "    cur8 = conn.cursor()\n",
        "    cur8.execute(\"\"\"WITH tabAux AS (SELECT * FROM db_hiring_test.raw_transactions_table t1 INNER JOIN db_hiring_test.raw_transactions_fee t2 ON REPLACE(t1.TotalSent,',','') <= t2.`range-end` AND REPLACE(t1.TotalSent,',','') >= t2.`range-start`) \n",
        "                    SELECT * FROM tabAux LIMIT 5\"\"\") \n",
        "    query_results8 = cur.fetchall()\n",
        "    field_names = print([i[0] for i in cur8.description])\n",
        "    for row in query_results8:\n",
        "      print(row)\n",
        "except Exception as e:\n",
        "    print(\"Database connection failed due to {}\".format(e))"
      ],
      "metadata": {
        "colab": {
          "base_uri": "https://localhost:8080/"
        },
        "id": "aa2eveHFuinl",
        "outputId": "b371eaa2-1922-44d8-e9d0-3cf93c0c119a"
      },
      "execution_count": 138,
      "outputs": [
        {
          "output_type": "stream",
          "name": "stdout",
          "text": [
            "['IdTransaction', 'AddressOrigin', 'AddressDestination', 'TotalSent', 'Status', 'SentDate', 'ImportDate', 'range-start', 'range-end', 'fee-percentage']\n",
            "('ID1002', 'A-77', 'A-49', ' 293,659.00 ', 'Confirmed', '2021-01-08 13:34:04', '2021-01-31 23:59:59', Decimal('160000.01'), Decimal('340000.00'), Decimal('8.00'))\n",
            "('ID2014', 'A-24', 'A-58', ' 542,285.00 ', 'Confirmed', '2021-01-17 13:34:04', '2021-01-31 23:59:59', Decimal('500000.01'), Decimal('670000.00'), Decimal('5.00'))\n",
            "('ID1092', 'A-15', 'A-20', ' 57,493.00 ', 'Confirmed', '2021-01-03 03:07:57', '2021-01-31 23:59:59', Decimal('0.00'), Decimal('160000.00'), Decimal('10.00'))\n",
            "('ID1603', 'A-84', 'A-59', ' 883,745.00 ', 'Confirmed', '2021-01-02 06:36:39', '2021-01-31 23:59:59', Decimal('833000.01'), Decimal('99000000.00'), Decimal('2.00'))\n",
            "('ID253', 'A-86', 'A-44', ' 194,591.00 ', 'Confirmed', '2021-01-14 20:22:08', '2021-01-31 23:59:59', Decimal('160000.01'), Decimal('340000.00'), Decimal('8.00'))\n"
          ]
        }
      ]
    },
    {
      "cell_type": "markdown",
      "source": [
        "Para realizar a verificação da fórmula, iremos exibir os valores das taxas das 5 primeiras transações"
      ],
      "metadata": {
        "id": "yIzvltvewVkU"
      }
    },
    {
      "cell_type": "code",
      "source": [
        "try:    \n",
        "    cur9 = conn.cursor()\n",
        "    cur9.execute(\"\"\"WITH tabAux AS (SELECT * FROM db_hiring_test.raw_transactions_table t1 INNER JOIN db_hiring_test.raw_transactions_fee t2 ON REPLACE(t1.TotalSent,',','') <= t2.`range-end` AND REPLACE(t1.TotalSent,',','') >= t2.`range-start`) \n",
        "                    SELECT IdTransaction, AddressOrigin, REPLACE(TotalSent,',','') *`fee-percentage`/100 AS TaxPaid FROM tabAux LIMIT 5\"\"\")\n",
        "    query_results9 = cur.fetchall()\n",
        "    field_names = print([i[0] for i in cur9.description])\n",
        "    for row in query_results9:\n",
        "      print(row)\n",
        "except Exception as e:\n",
        "    print(\"Database connection failed due to {}\".format(e))"
      ],
      "metadata": {
        "colab": {
          "base_uri": "https://localhost:8080/"
        },
        "id": "Nl05c_1ZuNVj",
        "outputId": "f9b89afb-3bc6-40ca-8508-be8b7d61f6c3"
      },
      "execution_count": 120,
      "outputs": [
        {
          "output_type": "stream",
          "name": "stdout",
          "text": [
            "['IdTransaction', 'AddressOrigin', 'TaxPaid']\n",
            "('ID1002', 'A-77', 23492.72)\n",
            "('ID2014', 'A-24', 27114.25)\n",
            "('ID1092', 'A-15', 5749.3)\n",
            "('ID1603', 'A-84', 17674.9)\n",
            "('ID253', 'A-86', 15567.28)\n"
          ]
        }
      ]
    },
    {
      "cell_type": "markdown",
      "source": [
        "Agora realizaremos a agregação dos valores para notarmos quais são os 5 primeiras carteiras que mais pagaram taxa no mês de Janeiro de 2021"
      ],
      "metadata": {
        "id": "Ks4z1Xw7wu8m"
      }
    },
    {
      "cell_type": "code",
      "source": [
        "try:\n",
        "    cur10 = conn.cursor()\n",
        "    cur10.execute(\"\"\"WITH tabAux AS (SELECT * FROM db_hiring_test.raw_transactions_table t1 INNER JOIN db_hiring_test.raw_transactions_fee t2 ON REPLACE(t1.TotalSent,',','') <= t2.`range-end` AND REPLACE(t1.TotalSent,',','') >= t2.`range-start`) \n",
        "                    SELECT AddressOrigin, SUM(REPLACE(TotalSent,',','') *`fee-percentage`)/100 AS TaxPaid FROM tabAux WHERE MONTH(SentDate) = 01 AND YEAR(SentDate) = 2021 GROUP BY AddressOrigin ORDER BY TaxPaid DESC LIMIT 5\"\"\") \n",
        "    query_results10 = cur.fetchall()\n",
        "    field_names = print([i[0] for i in cur10.description])\n",
        "    for row in query_results10:\n",
        "      print(row)\n",
        "except Exception as e:\n",
        "    print(\"Database connection failed due to {}\".format(e))"
      ],
      "metadata": {
        "colab": {
          "base_uri": "https://localhost:8080/"
        },
        "id": "5DXY8VXVyOtN",
        "outputId": "ac5fdb65-1116-419f-8398-b8bd20bf3500"
      },
      "execution_count": 128,
      "outputs": [
        {
          "output_type": "stream",
          "name": "stdout",
          "text": [
            "['AddressOrigin', 'TaxPaid']\n",
            "('A-99', 1993046.36)\n",
            "('A-83', 1765339.54)\n",
            "('A-25', 1713452.8)\n",
            "('A-72', 1675731.68)\n",
            "('A-68', 1668694.14)\n"
          ]
        }
      ]
    },
    {
      "cell_type": "markdown",
      "source": [
        "Agora realizaremos o mesmo procedimento para Fevereiro de 2021"
      ],
      "metadata": {
        "id": "TNjS7QCj9DJ1"
      }
    },
    {
      "cell_type": "code",
      "source": [
        "try:\n",
        "    cur11 = conn.cursor()\n",
        "    cur11.execute(\"\"\"WITH tabAux AS (SELECT * FROM db_hiring_test.raw_transactions_table t1 INNER JOIN db_hiring_test.raw_transactions_fee t2 ON REPLACE(t1.TotalSent,',','') <= t2.`range-end` AND REPLACE(t1.TotalSent,',','') >= t2.`range-start`) \n",
        "                    SELECT AddressOrigin, SUM(REPLACE(TotalSent,',','') *`fee-percentage`)/100 AS TaxPaid FROM tabAux WHERE MONTH(SentDate) = 02 AND YEAR(SentDate) = 2021 GROUP BY AddressOrigin ORDER BY TaxPaid DESC LIMIT 5\"\"\") \n",
        "    query_results11 = cur.fetchall()\n",
        "    field_names = print([i[0] for i in cur11.description])\n",
        "    for row in query_results11:\n",
        "      print(row)\n",
        "except Exception as e:\n",
        "    print(\"Database connection failed due to {}\".format(e))"
      ],
      "metadata": {
        "colab": {
          "base_uri": "https://localhost:8080/"
        },
        "id": "g1-6U37p1UQ2",
        "outputId": "1128d93a-3e86-469d-edba-88bc53b0db74"
      },
      "execution_count": 127,
      "outputs": [
        {
          "output_type": "stream",
          "name": "stdout",
          "text": [
            "['AddressOrigin', 'TaxPaid']\n",
            "('A-29', 107830.31)\n",
            "('A-30', 106344.95)\n",
            "('A-68', 104406.01)\n",
            "('A-27', 102267.66)\n",
            "('A-57', 92955.41)\n"
          ]
        }
      ]
    },
    {
      "cell_type": "markdown",
      "source": [
        "Podemos também realizar uma querie para pegarmos o valor da maior taxa e o ID da transação associado a ela"
      ],
      "metadata": {
        "id": "Lw-wkhAf9JmW"
      }
    },
    {
      "cell_type": "code",
      "source": [
        "try:\n",
        "    cur12 = conn.cursor()\n",
        "    cur12.execute(\"\"\"WITH tabAux AS (SELECT * FROM db_hiring_test.raw_transactions_table t1 INNER JOIN db_hiring_test.raw_transactions_fee t2 ON REPLACE(t1.TotalSent,',','') <= t2.`range-end` AND REPLACE(t1.TotalSent,',','') >= t2.`range-start`) \n",
        "                    SELECT *, REPLACE(TotalSent,',','')*`fee-percentage`/100 AS TaxPaid FROM tabAux ORDER BY TaxPaid DESC LIMIT 1\"\"\") \n",
        "    query_results12 = cur.fetchall()\n",
        "    field_names = print([i[0] for i in cur12.description])\n",
        "    for row in query_results12:\n",
        "      print(row)\n",
        "except Exception as e:\n",
        "    print(\"Database connection failed due to {}\".format(e))"
      ],
      "metadata": {
        "colab": {
          "base_uri": "https://localhost:8080/"
        },
        "id": "-P0JMMX-1kVK",
        "outputId": "96e867b5-3070-45d5-fe0c-8ee49119672a"
      },
      "execution_count": 139,
      "outputs": [
        {
          "output_type": "stream",
          "name": "stdout",
          "text": [
            "['IdTransaction', 'AddressOrigin', 'AddressDestination', 'TotalSent', 'Status', 'SentDate', 'ImportDate', 'range-start', 'range-end', 'fee-percentage', 'TaxPaid']\n",
            "('ID635', 'A-49', 'A-44', ' 669,701.00 ', 'Confirmed', '2021-01-08 17:59:13', '2021-01-31 23:59:59', Decimal('500000.01'), Decimal('670000.00'), Decimal('5.00'), 33485.05)\n"
          ]
        }
      ]
    },
    {
      "cell_type": "markdown",
      "source": [
        "Na última questão da Fase 2 iremos pegar a média de todas as transações usando a fórmula AVG()"
      ],
      "metadata": {
        "id": "MzdFGod19Xy2"
      }
    },
    {
      "cell_type": "code",
      "source": [
        "try:\n",
        "    cur13 = conn.cursor()\n",
        "    cur13.execute(\"\"\"WITH tabAux AS (SELECT * FROM db_hiring_test.raw_transactions_table t1 INNER JOIN db_hiring_test.raw_transactions_fee t2 ON REPLACE(t1.TotalSent,',','') <= t2.`range-end` AND REPLACE(t1.TotalSent,',','') >= t2.`range-start`) \n",
        "                    SELECT ROUND(AVG(REPLACE(TotalSent,',','')*`fee-percentage`/100),2) AS AvgTaxPaid FROM tabAux LIMIT 1\"\"\") \n",
        "    query_results13 = cur.fetchall()\n",
        "    field_names = print([i[0] for i in cur13.description])\n",
        "    for row in query_results13:\n",
        "      print(row)\n",
        "except Exception as e:\n",
        "    print(\"Database connection failed due to {}\".format(e))"
      ],
      "metadata": {
        "colab": {
          "base_uri": "https://localhost:8080/"
        },
        "id": "xwuGRcfz-cTh",
        "outputId": "537ba023-f4e5-4383-c246-b6f6dc378ccb"
      },
      "execution_count": 141,
      "outputs": [
        {
          "output_type": "stream",
          "name": "stdout",
          "text": [
            "['AvgTaxPaid']\n",
            "(21713.32,)\n"
          ]
        }
      ]
    },
    {
      "cell_type": "markdown",
      "source": [
        "# Fase 3:"
      ],
      "metadata": {
        "id": "yTWL_ThwHFKZ"
      }
    },
    {
      "cell_type": "markdown",
      "source": [
        "Para criação da estrutura da automação dentro do Google Cloud Platform, para rodar os scripts podemos utilizar as ferramentas:\n",
        "\n",
        "*   Google IAM\n",
        "*   Google Cloud Function\n",
        "*   Google Cloud Scheduler\n",
        "\n",
        "Primeiramente podemos criar uma **service account** e posteriormente uma **cloud function** contendo o código em Python que possui a função que cria, altera ou consulta o nosso banco de dados, como por exemplo uma das células acima. Durante a criação, podemos colocar como **trigger** uma requisição HTTP, adicionando a nossa service account como um dos usuários com permissão para acessá-la.\n",
        "\n",
        "Logo depois da criação da cloud function, devemos criar um **Cloud Scheduler**, lá definiremos a frequência e também o endereço HTTP que o scheduler irá realizar a requisição. É necessário incluir o permissionamento juntamente com a service account previamente criada. \n",
        "\n",
        "É possível tornar a Cloud Function pública, evitando a primeira etapa do IAM, porém não se trata da melhor prática, pois qualquer pessoa da web poderia realizar a requisição."
      ],
      "metadata": {
        "id": "7sEpoJMvDi28"
      }
    }
  ]
}